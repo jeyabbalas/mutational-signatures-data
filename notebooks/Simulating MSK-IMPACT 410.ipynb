{
 "cells": [
  {
   "cell_type": "markdown",
   "source": [
    "# Simulating MSK-IMPACT 410 Gene Panel Mutational Spectra\n",
    "\n",
    "**Goal**: simulate an MSK-IMPACT 410 gene panel mutational spectra matrix from ICGC whole genome mutational annotation file (MAF) datasets.\n",
    "\n"
   ],
   "metadata": {
    "collapsed": false
   }
  },
  {
   "cell_type": "code",
   "execution_count": 1,
   "outputs": [],
   "source": [
    "from pathlib import Path\n",
    "\n",
    "import pandas as pd"
   ],
   "metadata": {
    "collapsed": false,
    "pycharm": {
     "name": "#%%\n"
    }
   }
  },
  {
   "cell_type": "code",
   "execution_count": 2,
   "metadata": {
    "collapsed": true
   },
   "outputs": [],
   "source": [
    "dir_data = Path.cwd().parent / \"data\"\n",
    "dir_maf_dirs = dir_data / \"WGS_MAFs\"\n",
    "\n",
    "fpath_grch37 = dir_data / \"hg19.fa\"\n",
    "fpath_msk_impact_bed = dir_data / \"MSK-IMPACT410.bed\""
   ]
  },
  {
   "cell_type": "code",
   "execution_count": 11,
   "outputs": [],
   "source": [
    "dir_panel_maf_dirs = dir_data / \"MSK_IMPACT_410_MAFs\"\n",
    "if not dir_panel_maf_dirs.exists():\n",
    "        dir_panel_maf_dirs.mkdir()"
   ],
   "metadata": {
    "collapsed": false,
    "pycharm": {
     "name": "#%%\n"
    }
   }
  },
  {
   "cell_type": "code",
   "execution_count": 3,
   "outputs": [],
   "source": [
    "msk_impact_df = pd.read_csv(fpath_msk_impact_bed, sep=\"\\t\")"
   ],
   "metadata": {
    "collapsed": false,
    "pycharm": {
     "name": "#%%\n"
    }
   }
  },
  {
   "cell_type": "code",
   "execution_count": 4,
   "outputs": [
    {
     "data": {
      "text/plain": "  Chromosome  Start_Position  End_Position Hugo_Symbol    ID   SEQ_ASSAY_ID  \\\n0          9       133710831     133710915        ABL1  ABL1  MSK-IMPACT410   \n1          9       133729448     133729627        ABL1  ABL1  MSK-IMPACT410   \n2          9       133730185     133730486        ABL1  ABL1  MSK-IMPACT410   \n3          9       133738147     133738425        ABL1  ABL1  MSK-IMPACT410   \n4          9       133747513     133747603        ABL1  ABL1  MSK-IMPACT410   \n\n  Feature_Type  includeInPanel  \n0         exon            True  \n1         exon            True  \n2         exon            True  \n3         exon            True  \n4         exon            True  ",
      "text/html": "<div>\n<style scoped>\n    .dataframe tbody tr th:only-of-type {\n        vertical-align: middle;\n    }\n\n    .dataframe tbody tr th {\n        vertical-align: top;\n    }\n\n    .dataframe thead th {\n        text-align: right;\n    }\n</style>\n<table border=\"1\" class=\"dataframe\">\n  <thead>\n    <tr style=\"text-align: right;\">\n      <th></th>\n      <th>Chromosome</th>\n      <th>Start_Position</th>\n      <th>End_Position</th>\n      <th>Hugo_Symbol</th>\n      <th>ID</th>\n      <th>SEQ_ASSAY_ID</th>\n      <th>Feature_Type</th>\n      <th>includeInPanel</th>\n    </tr>\n  </thead>\n  <tbody>\n    <tr>\n      <th>0</th>\n      <td>9</td>\n      <td>133710831</td>\n      <td>133710915</td>\n      <td>ABL1</td>\n      <td>ABL1</td>\n      <td>MSK-IMPACT410</td>\n      <td>exon</td>\n      <td>True</td>\n    </tr>\n    <tr>\n      <th>1</th>\n      <td>9</td>\n      <td>133729448</td>\n      <td>133729627</td>\n      <td>ABL1</td>\n      <td>ABL1</td>\n      <td>MSK-IMPACT410</td>\n      <td>exon</td>\n      <td>True</td>\n    </tr>\n    <tr>\n      <th>2</th>\n      <td>9</td>\n      <td>133730185</td>\n      <td>133730486</td>\n      <td>ABL1</td>\n      <td>ABL1</td>\n      <td>MSK-IMPACT410</td>\n      <td>exon</td>\n      <td>True</td>\n    </tr>\n    <tr>\n      <th>3</th>\n      <td>9</td>\n      <td>133738147</td>\n      <td>133738425</td>\n      <td>ABL1</td>\n      <td>ABL1</td>\n      <td>MSK-IMPACT410</td>\n      <td>exon</td>\n      <td>True</td>\n    </tr>\n    <tr>\n      <th>4</th>\n      <td>9</td>\n      <td>133747513</td>\n      <td>133747603</td>\n      <td>ABL1</td>\n      <td>ABL1</td>\n      <td>MSK-IMPACT410</td>\n      <td>exon</td>\n      <td>True</td>\n    </tr>\n  </tbody>\n</table>\n</div>"
     },
     "execution_count": 4,
     "metadata": {},
     "output_type": "execute_result"
    }
   ],
   "source": [
    "msk_impact_df.head()"
   ],
   "metadata": {
    "collapsed": false,
    "pycharm": {
     "name": "#%%\n"
    }
   }
  },
  {
   "cell_type": "code",
   "execution_count": 34,
   "outputs": [],
   "source": [
    "def read_sbs_maf_file(filepath: str) -> pd.DataFrame:\n",
    "    \"\"\"\n",
    "    Reads only single base substitutions from an MAF file generated from an\n",
    "    ICGC SSM dataset.\n",
    "\n",
    "    :param filepath: file path to the MAF file.\n",
    "    :return: Pandas dataframe with only single base substitutions.\n",
    "    \"\"\"\n",
    "    data = pd.read_csv(filepath, sep=\"\\t\")\n",
    "    data = data.loc[data[\"mutation_type\"] == \"single base substitution\"].reset_index(drop=True)\n",
    "    return data\n",
    "\n",
    "\n",
    "def is_mutation_in_gene_panel(panel_df,\n",
    "                              chromosome: str,\n",
    "                              position_start: int,\n",
    "                              position_end: int) -> bool:\n",
    "        \"\"\"\n",
    "        Checks if the defined mutation is measured by the gene panel.\n",
    "\n",
    "        :param panel_df: gene panel BED file.\n",
    "        :param chromosome: chromosome name of the mutation.\n",
    "        :param position_start: starting position of the mutation.\n",
    "        :param position_end: end position of the mutation.\n",
    "        :return: True if the mutation region is measured in the gene panel.\n",
    "            False otherwise.\n",
    "        \"\"\"\n",
    "        panel_matches = panel_df.loc[((panel_df[\"Chromosome\"] == chromosome) &\n",
    "                                      (panel_df[\"Start_Position\"] <= position_start) &\n",
    "                                      (panel_df[\"End_Position\"] >= position_end))]\n",
    "        return len(panel_matches) > 0\n",
    "\n",
    "\n",
    "def return_panel_rows(panel_df: pd.DataFrame,\n",
    "                      wg_maf: pd.DataFrame) -> pd.DataFrame:\n",
    "    \"\"\"\n",
    "    Takes an MAF dataframe from WGS analysis and downsamples it to only return the\n",
    "    mutations covered by the gene panel (as described by its BED file).\n",
    "\n",
    "    :param panel_df: gene panel's BED file.\n",
    "    :param wg_maf: MAF from WGS analysis.\n",
    "    :return:\n",
    "    \"\"\"\n",
    "    panel_rows = wg_maf.apply(lambda row: is_mutation_in_gene_panel(panel_df,\n",
    "                                                                    row[\"chromosome\"],\n",
    "                                                                    row[\"chromosome_start\"],\n",
    "                                                                    row[\"chromosome_end\"]),\n",
    "                              axis=1)\n",
    "    return wg_maf.loc[panel_rows]\n",
    "\n",
    "\n",
    "def convert_wg_mafs_to_panel_mafs(dir_wg_mafs: Path,\n",
    "                                  panel_df: pd.DataFrame,\n",
    "                                  dir_panel_mafs: Path) -> None:\n",
    "        \"\"\"\n",
    "        Converts each MAF file, generated from WGS analysis, in a directory and\n",
    "        downsamples it to only MAF files containing only the mutations covered\n",
    "        by the gene panel (as described by its BED file).\n",
    "\n",
    "        :param dir_wg_mafs: a directory containing a set of MAF files from WGS\n",
    "            analysis.\n",
    "        :param panel_df: BED file of the gene panel.\n",
    "        :param dir_panel_mafs: output directory.\n",
    "        \"\"\"\n",
    "        maf_filepaths = list(dir_wg_mafs.glob(\"*\"))\n",
    "\n",
    "        for maf_filepath in maf_filepaths:\n",
    "            filepath_panel = dir_panel_mafs / f\"{maf_filepath.stem}\"\n",
    "            data_maf = read_sbs_maf_file(maf_filepath)\n",
    "            data_maf = return_panel_rows(panel_df, data_maf)\n",
    "            if len(data_maf) > 0:\n",
    "                data_maf.to_csv(filepath_panel)\n",
    "\n",
    "\n",
    "def panel_maf_dirs_from_wgs_maf_dirs(dir_wg_maf_dirs: Path,\n",
    "                                     panel_df: pd.DataFrame,\n",
    "                                     dir_panel_maf_dirs: Path) -> None:\n",
    "        \"\"\"\n",
    "        For each directory within the specified directory, this method iterates through\n",
    "        all MAF files, generated from WGS analysis, and downsamples it to create MAF\n",
    "        files containing mutations covered by the gene panel (as described by its BED\n",
    "        file).\n",
    "\n",
    "        :param dir_wg_maf_dirs: a directory of directories, each containing a set of MAF files\n",
    "            from WGS analysis.\n",
    "        :param panel_df: BED file of the gene panel.\n",
    "        :param dir_panel_maf_dirs: output directory.\n",
    "        \"\"\"\n",
    "        for dir_wg_mafs in dir_wg_maf_dirs.iterdir():\n",
    "                dir_panel_mafs = dir_panel_maf_dirs / dir_wg_mafs.name\n",
    "                if not dir_panel_mafs.exists():\n",
    "                        dir_panel_mafs.mkdir()\n",
    "                convert_wg_mafs_to_panel_mafs(dir_wg_mafs, panel_df, dir_panel_mafs)"
   ],
   "metadata": {
    "collapsed": false,
    "pycharm": {
     "name": "#%%\n"
    }
   }
  },
  {
   "cell_type": "code",
   "execution_count": null,
   "outputs": [
    {
     "name": "stderr",
     "output_type": "stream",
     "text": [
      "/var/folders/8l/pbcwnq316rz5v5pnyv_sydmn2fsdlk/T/ipykernel_40223/3301878818.py:9: DtypeWarning: Columns (3) have mixed types. Specify dtype option on import or set low_memory=False.\n",
      "  data = pd.read_csv(filepath, sep=\"\\t\")\n"
     ]
    }
   ],
   "source": [
    "panel_maf_dirs_from_wgs_maf_dirs(dir_maf_dirs, msk_impact_df, dir_panel_maf_dirs)"
   ],
   "metadata": {
    "collapsed": false,
    "pycharm": {
     "name": "#%%\n",
     "is_executing": true
    }
   }
  },
  {
   "cell_type": "code",
   "execution_count": null,
   "outputs": [],
   "source": [],
   "metadata": {
    "collapsed": false,
    "pycharm": {
     "name": "#%%\n"
    }
   }
  }
 ],
 "metadata": {
  "kernelspec": {
   "display_name": "Python 3",
   "language": "python",
   "name": "python3"
  },
  "language_info": {
   "codemirror_mode": {
    "name": "ipython",
    "version": 2
   },
   "file_extension": ".py",
   "mimetype": "text/x-python",
   "name": "python",
   "nbconvert_exporter": "python",
   "pygments_lexer": "ipython2",
   "version": "2.7.6"
  }
 },
 "nbformat": 4,
 "nbformat_minor": 0
}