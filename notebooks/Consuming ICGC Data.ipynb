{
 "cells": [
  {
   "cell_type": "markdown",
   "source": [
    "# Consuming ICGC datasets from APIs\n",
    "\n",
    "**Goal**: download simple somatic mutation (SSM) data from the [BRCA projects](https://pubmed.ncbi.nlm.nih.gov/27135926/) for donor samples that were analyzed using whole genome sequencing (WGS) platforms.\n",
    "\n",
    "[Linked here is a list of ICGC Data Portal API Endpoints](https://docs.icgc.org/portal/api-endpoints/). We will query the APIs using its [Portal Query Language (PQL)](https://github.com/icgc-dcc/dcc-portal/blob/develop/dcc-portal-pql/PQL.md).\n",
    "\n",
    "* To obtain file sizes, we will query the [/download/sizePQL](https://docs.icgc.org/portal/api-endpoints/#!/download/getDataTypeSizePerFileTypeFromPQL) endpoint.\n",
    "* To obtain a download ID, we will query the [/download/submitPQL](https://docs.icgc.org/portal/api-endpoints/#!/download/submitPQLJob) endpoint.\n",
    "* To download the data, we will query the [/download/{downloadId}/{dataType}](https://docs.icgc.org/portal/api-endpoints/#!/download/getIndividualTypeArchive) endpoint."
   ],
   "metadata": {
    "collapsed": false
   }
  },
  {
   "cell_type": "code",
   "execution_count": 1,
   "outputs": [],
   "source": [
    "from pathlib import Path\n",
    "from typing import List\n",
    "\n",
    "import requests\n",
    "from tqdm import tqdm"
   ],
   "metadata": {
    "collapsed": false,
    "pycharm": {
     "name": "#%%\n"
    }
   }
  },
  {
   "cell_type": "code",
   "execution_count": 2,
   "outputs": [],
   "source": [
    "dir_data = Path.cwd().parent / \"data/WGS/\""
   ],
   "metadata": {
    "collapsed": false,
    "pycharm": {
     "name": "#%%\n"
    }
   }
  },
  {
   "cell_type": "code",
   "execution_count": 3,
   "outputs": [],
   "source": [
    "def get_filesize(pql_query: str,\n",
    "                 datatype: str = \"ssm\") -> int:\n",
    "    \"\"\"\n",
    "    Calls an ICGC Data Portal API to retrieve the file size of the dataset\n",
    "    specified by a PQL query and a data type.\n",
    "\n",
    "    :param pql_query: PQL query to retrieve the dataset of interest.\n",
    "    :param datatype: data types e.g., \"ssm\" for simple somatic mutation,\n",
    "        \"donor\" for clinical dataset, \"cnsm\" for copy number somatic mutation,\n",
    "        etc.\n",
    "    :return: size of the specified dataset in bytes.\n",
    "    \"\"\"\n",
    "    url = f\"https://dcc.icgc.org/api/v1/download/sizePQL?pql={pql_query}\"\n",
    "\n",
    "    response = requests.get(url)\n",
    "    if response.status_code != 200:\n",
    "        raise IOError(f\"GET {url} resulted in status code {response.status_code}\")\n",
    "\n",
    "    file_sizes = response.json()[\"fileSize\"]\n",
    "    for dataset in file_sizes:\n",
    "        if dataset[\"label\"] == datatype:\n",
    "            return dataset[\"sizes\"]\n",
    "\n",
    "    raise ValueError(f\"GET {url} does not contain the {datatype} data type.\")\n",
    "\n",
    "\n",
    "def get_download_id(pql_query: str,\n",
    "                    datatype: str = \"ssm\",\n",
    "                    output_format: str = \"TSV\") -> str:\n",
    "    \"\"\"\n",
    "    Calls an ICGC Data Portal API to retrieve a download ID for the dataset\n",
    "    specified by a PQL query, a data type, and an output format.\n",
    "\n",
    "    :param pql_query: PQL query to retrieve the dataset of interest.\n",
    "    :param datatype: data types e.g., \"ssm\" for simple somatic mutation,\n",
    "        \"donor\" for clinical dataset, \"cnsm\" for copy number somatic mutation,\n",
    "        etc.\n",
    "    :param output_format: output data format. Supported formats: [\"json\", \"TSV\"].\n",
    "    :return: a download ID\n",
    "    \"\"\"\n",
    "    info = f\"[{{\\\"key\\\":\\\"{datatype}\\\", \\\"value\\\":\\\"{output_format}\\\"}}]\"\n",
    "    url = f\"https://dcc.icgc.org/api/v1/download/submitPQL?pql={pql_query}&info={info}\"\n",
    "\n",
    "    response = requests.get(url)\n",
    "    if response.status_code != 200:\n",
    "        raise IOError(f\"GET {url} resulted in status code {response.status_code}\")\n",
    "\n",
    "    return response.json()[\"downloadId\"]\n",
    "\n",
    "\n",
    "def download_data(output_filepath: Path,\n",
    "                  download_id: str,\n",
    "                  file_size:int) -> None:\n",
    "    \"\"\"\n",
    "    Calls an ICGC Data Portal API to download a gzipped file for the dataset\n",
    "    specified by a download ID.\n",
    "\n",
    "    :param output_filepath: output file directory\n",
    "    :param download_id: download ID obtained from API call from get_download_id()\n",
    "    :param file_size: dataset file size in bytes\n",
    "    \"\"\"\n",
    "    url = f\"https://dcc.icgc.org/api/v1/download/{download_id}\"\n",
    "    headers = {\"Accept\": \"application/x-gzip\"}\n",
    "    progress_bar = tqdm(total=file_size, unit=\"iB\", unit_scale=True)\n",
    "\n",
    "    response = requests.get(url, headers=headers,\n",
    "                            verify=False, stream=True)\n",
    "    if response.status_code != 200:\n",
    "        raise IOError(f\"GET {url} resulted in status code {response.status_code}\")\n",
    "\n",
    "    with open(output_filepath.with_suffix(\".tsv.gz\"), \"wb\") as f:\n",
    "        for data in response.iter_content(1024**2):\n",
    "            progress_bar.update(len(data))\n",
    "            f.write(data)\n",
    "    progress_bar.close()\n",
    "\n",
    "\n",
    "def download_icgc_datasets(output_dir: Path,\n",
    "                           projects: List[str],\n",
    "                           datatype: str = \"ssm\",\n",
    "                           analysis_type: str = \"WGS\",\n",
    "                           output_format: str = \"TSV\") -> None:\n",
    "    \"\"\"\n",
    "    Download BRCA project datasets from ICGC Data Portal.\n",
    "\n",
    "    :param output_dir: output directory to download data in.\n",
    "    :param projects: a list of projects in ICGC to extract data from.\n",
    "    :param datatype: data types e.g., \"ssm\" for simple somatic mutation,\n",
    "        \"donor\" for clinical dataset, \"cnsm\" for copy number somatic mutation,\n",
    "        etc.\n",
    "    :param analysis_type: data analysis type. E.g., WGS for whole genome sequencing,\n",
    "        WXS for whole exome sequencing, etc.\n",
    "    :param output_format: output data format. Supported formats: [\"json\", \"TSV\"].\n",
    "    \"\"\"\n",
    "    supported_formats = [\"TSV\", \"json\"]\n",
    "    if output_format not in supported_formats:\n",
    "        raise ValueError(f\"Output format {output_format} isn't supported. \"\n",
    "                         f\"Supported formats: {supported_formats}\")\n",
    "\n",
    "    if not output_dir.exists():\n",
    "        output_dir.mkdir()\n",
    "\n",
    "    for project in projects:\n",
    "        pql_query = f\"select(*),in(donor.projectId,'{project}'),\" \\\n",
    "                    f\"in(donor.availableDataTypes,'{datatype}'),\" \\\n",
    "                    f\"in(donor.analysisTypes,'{analysis_type}')\"\n",
    "\n",
    "        file_size = get_filesize(pql_query, datatype)\n",
    "        print(f\"Downloading {datatype} data ({(file_size/1024**2):.2f} MBs) \"\n",
    "              f\"from project {project}.\")\n",
    "        download_id = get_download_id(pql_query, datatype, output_format)\n",
    "        output_filepath = output_dir / f\"{project}_{datatype}_{analysis_type}\"\n",
    "        download_data(output_filepath, download_id, file_size)\n",
    "\n",
    "    print(\"Done.\")"
   ],
   "metadata": {
    "collapsed": false,
    "pycharm": {
     "name": "#%%\n"
    }
   }
  },
  {
   "cell_type": "code",
   "execution_count": 4,
   "outputs": [
    {
     "name": "stdout",
     "output_type": "stream",
     "text": [
      "Downloading ssm data (152.09 MBs) from project BRCA-EU.\n"
     ]
    },
    {
     "name": "stderr",
     "output_type": "stream",
     "text": [
      "  0%|          | 0.00/159M [00:00<?, ?iB/s]/Users/balasubramanijb/Library/Caches/pypoetry/virtualenvs/mutational-signatures-data-h1Y74KC3-py3.9/lib/python3.9/site-packages/urllib3/connectionpool.py:1043: InsecureRequestWarning: Unverified HTTPS request is being made to host 'dcc.icgc.org'. Adding certificate verification is strongly advised. See: https://urllib3.readthedocs.io/en/1.26.x/advanced-usage.html#ssl-warnings\n",
      "  warnings.warn(\n",
      "/Users/balasubramanijb/Library/Caches/pypoetry/virtualenvs/mutational-signatures-data-h1Y74KC3-py3.9/lib/python3.9/site-packages/urllib3/connectionpool.py:1043: InsecureRequestWarning: Unverified HTTPS request is being made to host 'download.icgc.org'. Adding certificate verification is strongly advised. See: https://urllib3.readthedocs.io/en/1.26.x/advanced-usage.html#ssl-warnings\n",
      "  warnings.warn(\n",
      "159MiB [00:17, 8.95MiB/s]                             \n"
     ]
    },
    {
     "name": "stdout",
     "output_type": "stream",
     "text": [
      "Downloading ssm data (29.09 MBs) from project BRCA-FR.\n"
     ]
    },
    {
     "name": "stderr",
     "output_type": "stream",
     "text": [
      "  0%|          | 0.00/30.5M [00:00<?, ?iB/s]/Users/balasubramanijb/Library/Caches/pypoetry/virtualenvs/mutational-signatures-data-h1Y74KC3-py3.9/lib/python3.9/site-packages/urllib3/connectionpool.py:1043: InsecureRequestWarning: Unverified HTTPS request is being made to host 'dcc.icgc.org'. Adding certificate verification is strongly advised. See: https://urllib3.readthedocs.io/en/1.26.x/advanced-usage.html#ssl-warnings\n",
      "  warnings.warn(\n",
      "/Users/balasubramanijb/Library/Caches/pypoetry/virtualenvs/mutational-signatures-data-h1Y74KC3-py3.9/lib/python3.9/site-packages/urllib3/connectionpool.py:1043: InsecureRequestWarning: Unverified HTTPS request is being made to host 'download.icgc.org'. Adding certificate verification is strongly advised. See: https://urllib3.readthedocs.io/en/1.26.x/advanced-usage.html#ssl-warnings\n",
      "  warnings.warn(\n",
      "30.5MiB [00:02, 10.2MiB/s]                           \n"
     ]
    },
    {
     "name": "stdout",
     "output_type": "stream",
     "text": [
      "Downloading ssm data (22.33 MBs) from project BRCA-UK.\n"
     ]
    },
    {
     "name": "stderr",
     "output_type": "stream",
     "text": [
      "  0%|          | 0.00/23.4M [00:00<?, ?iB/s]/Users/balasubramanijb/Library/Caches/pypoetry/virtualenvs/mutational-signatures-data-h1Y74KC3-py3.9/lib/python3.9/site-packages/urllib3/connectionpool.py:1043: InsecureRequestWarning: Unverified HTTPS request is being made to host 'dcc.icgc.org'. Adding certificate verification is strongly advised. See: https://urllib3.readthedocs.io/en/1.26.x/advanced-usage.html#ssl-warnings\n",
      "  warnings.warn(\n",
      "/Users/balasubramanijb/Library/Caches/pypoetry/virtualenvs/mutational-signatures-data-h1Y74KC3-py3.9/lib/python3.9/site-packages/urllib3/connectionpool.py:1043: InsecureRequestWarning: Unverified HTTPS request is being made to host 'download.icgc.org'. Adding certificate verification is strongly advised. See: https://urllib3.readthedocs.io/en/1.26.x/advanced-usage.html#ssl-warnings\n",
      "  warnings.warn(\n",
      "23.4MiB [00:09, 2.35MiB/s]                           \n"
     ]
    },
    {
     "name": "stdout",
     "output_type": "stream",
     "text": [
      "Downloading ssm data (1.89 MBs) from project BRCA-US.\n"
     ]
    },
    {
     "name": "stderr",
     "output_type": "stream",
     "text": [
      "  0%|          | 0.00/1.99M [00:00<?, ?iB/s]/Users/balasubramanijb/Library/Caches/pypoetry/virtualenvs/mutational-signatures-data-h1Y74KC3-py3.9/lib/python3.9/site-packages/urllib3/connectionpool.py:1043: InsecureRequestWarning: Unverified HTTPS request is being made to host 'dcc.icgc.org'. Adding certificate verification is strongly advised. See: https://urllib3.readthedocs.io/en/1.26.x/advanced-usage.html#ssl-warnings\n",
      "  warnings.warn(\n",
      "/Users/balasubramanijb/Library/Caches/pypoetry/virtualenvs/mutational-signatures-data-h1Y74KC3-py3.9/lib/python3.9/site-packages/urllib3/connectionpool.py:1043: InsecureRequestWarning: Unverified HTTPS request is being made to host 'download.icgc.org'. Adding certificate verification is strongly advised. See: https://urllib3.readthedocs.io/en/1.26.x/advanced-usage.html#ssl-warnings\n",
      "  warnings.warn(\n",
      "1.99MiB [00:01, 1.53MiB/s]                           "
     ]
    },
    {
     "name": "stdout",
     "output_type": "stream",
     "text": [
      "Done.\n"
     ]
    },
    {
     "name": "stderr",
     "output_type": "stream",
     "text": [
      "\n"
     ]
    }
   ],
   "source": [
    "projects = [\"BRCA-EU\", \"BRCA-FR\", \"BRCA-UK\", \"BRCA-US\"]\n",
    "datatype = \"ssm\"\n",
    "analysis_type = \"WGS\"\n",
    "output_format = \"TSV\"\n",
    "\n",
    "download_icgc_datasets(dir_data, projects, datatype, analysis_type, output_format)"
   ],
   "metadata": {
    "collapsed": false,
    "pycharm": {
     "name": "#%%\n"
    }
   }
  },
  {
   "cell_type": "code",
   "execution_count": null,
   "outputs": [],
   "source": [],
   "metadata": {
    "collapsed": false,
    "pycharm": {
     "name": "#%%\n"
    }
   }
  }
 ],
 "metadata": {
  "kernelspec": {
   "display_name": "Python 3",
   "language": "python",
   "name": "python3"
  },
  "language_info": {
   "codemirror_mode": {
    "name": "ipython",
    "version": 2
   },
   "file_extension": ".py",
   "mimetype": "text/x-python",
   "name": "python",
   "nbconvert_exporter": "python",
   "pygments_lexer": "ipython2",
   "version": "2.7.6"
  }
 },
 "nbformat": 4,
 "nbformat_minor": 0
}