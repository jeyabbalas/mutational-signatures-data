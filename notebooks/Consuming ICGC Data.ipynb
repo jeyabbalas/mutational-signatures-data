{
 "cells": [
  {
   "cell_type": "markdown",
   "source": [
    "# Consuming ICGC datasets from APIs\n",
    "\n",
    "**Goal**: obtain simple somatic mutation (SSM) data from the [BRCA projects](https://pubmed.ncbi.nlm.nih.gov/27135926/) for donor samples that were analyzed using whole genome sequencing (WGS) platforms.\n",
    "\n",
    "[Here is a list of ICGC Data Portal API Endpoints](https://docs.icgc.org/portal/api-endpoints/). We will query the API using its [Portal Query Language (PQL)](https://github.com/icgc-dcc/dcc-portal/blob/develop/dcc-portal-pql/PQL.md).\n",
    "\n",
    "1. To obtain file sizes, we will query the [/download/sizePQL](https://docs.icgc.org/portal/api-endpoints/#!/download/getDataTypeSizePerFileTypeFromPQL) endpoint."
   ],
   "metadata": {
    "collapsed": false
   }
  },
  {
   "cell_type": "code",
   "execution_count": 1,
   "outputs": [],
   "source": [
    "from pathlib import Path\n",
    "\n",
    "import requests"
   ],
   "metadata": {
    "collapsed": false,
    "pycharm": {
     "name": "#%%\n"
    }
   }
  },
  {
   "cell_type": "code",
   "execution_count": 2,
   "outputs": [],
   "source": [
    "data_dir = Path.cwd() / \"data\""
   ],
   "metadata": {
    "collapsed": false,
    "pycharm": {
     "name": "#%%\n"
    }
   }
  },
  {
   "cell_type": "code",
   "execution_count": 3,
   "outputs": [],
   "source": [
    "url_base = \"https://dcc.icgc.org/api/v1/\""
   ],
   "metadata": {
    "collapsed": false,
    "pycharm": {
     "name": "#%%\n"
    }
   }
  },
  {
   "cell_type": "code",
   "execution_count": 4,
   "outputs": [],
   "source": [
    "def get_filesize(url_base: str, pql_query: str, datatype: str=\"ssm\"):\n",
    "    url_filesize = f\"{url_base}download/sizePQL?pql={pql_query}\"\n",
    "\n",
    "    response = requests.get(url=url_filesize)\n",
    "    if response.status_code != 200:\n",
    "        raise IOError(f\"GET {url_filesize} resulted in status code {response.status_code}\")\n",
    "\n",
    "    file_sizes = response.json()[\"fileSize\"]\n",
    "    for dataset in file_sizes:\n",
    "        if dataset[\"label\"] == datatype:\n",
    "            return dataset[\"sizes\"]\n",
    "\n",
    "    raise ValueError(f\"GET {url_filesize} does not contain the {datatype} data type.\")\n",
    "\n",
    "\n",
    "def download_brca_ssm_datasets():\n",
    "    url_base = \"https://dcc.icgc.org/api/v1/\"\n",
    "    brca_projects = [\"BRCA-EU\", \"BRCA-FR\", \"BRCA-UK\", \"BRCA-US\"]\n",
    "\n",
    "    for brca_project in brca_projects:\n",
    "        pql_query = f\"select(*),in(donor.projectId,'{brca_project}'),in(donor.availableDataTypes,'ssm'),in(donor.analysisTypes,'WGS')\"\n",
    "        print(f\"SSM file in project {brca_project} is of size: {(get_filesize(url_base, pql_query, datatype='ssm')/1024**2):>.2f} MB.\")"
   ],
   "metadata": {
    "collapsed": false,
    "pycharm": {
     "name": "#%%\n"
    }
   }
  },
  {
   "cell_type": "code",
   "execution_count": 5,
   "outputs": [
    {
     "name": "stdout",
     "output_type": "stream",
     "text": [
      "SSM file in project BRCA-EU is of size: 152.09 MB.\n",
      "SSM file in project BRCA-FR is of size: 29.09 MB.\n",
      "SSM file in project BRCA-UK is of size: 22.33 MB.\n",
      "SSM file in project BRCA-US is of size: 1.89 MB.\n"
     ]
    }
   ],
   "source": [
    "download_brca_ssm_datasets()"
   ],
   "metadata": {
    "collapsed": false,
    "pycharm": {
     "name": "#%%\n"
    }
   }
  },
  {
   "cell_type": "markdown",
   "source": [
    "## Multiple entries for the same mutation in a donor\n",
    "\n",
    "A simple somatic mutation (SSM) donor dataset in the ICGC portal can contain multiple records for the same variant in a donor. These records differ in fields: `consequence_type`, `aa_mutation`, `cds_mutation`, `gene_affected`, and `transcript_affected`. This is the result of [SnpEff](http://pcingola.github.io/SnpEff/), a genome variant annotation and effect prediction tool.\n",
    "\n",
    "A single variant can have multiple functional effects (`consequence_type`). One of the reasons is due to the presence of [multiple gene isoforms](https://en.wikipedia.org/wiki/Gene_isoform). These isoforms, while coming from the same locus, can differ in transcription start site, coding DNA sequences, and/or untranslated regions. As a result, [these gene isoforms can have different functions](https://en.wikipedia.org/wiki/Protein_isoform). Sometimes a variant may be transcribed and can introduce synonymous or missense mutation to the transcript. Other times the variant may not be present in the transcript isoform but can influence splice site recognition. Due to these reasons, for the same variant in a donor, we can have multiple `transcript_affected` for the same `gene_affected`.\n",
    "\n",
    "Additionally, sometimes a variant can exist some distance upstream/downstream of another gene and influence its transcription. As a result, `gene_affected` can also differ for the same variant in a donor."
   ],
   "metadata": {
    "collapsed": false
   }
  },
  {
   "cell_type": "code",
   "execution_count": null,
   "outputs": [],
   "source": [],
   "metadata": {
    "collapsed": false,
    "pycharm": {
     "name": "#%%\n"
    }
   }
  }
 ],
 "metadata": {
  "kernelspec": {
   "display_name": "Python 3",
   "language": "python",
   "name": "python3"
  },
  "language_info": {
   "codemirror_mode": {
    "name": "ipython",
    "version": 2
   },
   "file_extension": ".py",
   "mimetype": "text/x-python",
   "name": "python",
   "nbconvert_exporter": "python",
   "pygments_lexer": "ipython2",
   "version": "2.7.6"
  }
 },
 "nbformat": 4,
 "nbformat_minor": 0
}