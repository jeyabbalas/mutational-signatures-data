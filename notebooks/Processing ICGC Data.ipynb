{
 "cells": [
  {
   "cell_type": "markdown",
   "source": [
    "# Processing ICGC Data for Mutational Signatures Analysis\n",
    "\n",
    "**Goal**: clean the downloaded ICGC donor SSM data and convert them into [mutational annotation format (MAF)](https://docs.gdc.cancer.gov/Data/File_Formats/MAF_Format/), and then convert MAF data into a mutational spectra matrix for mutational signature analysis.\n",
    "\n",
    "This notebook assumes that the steps in the notebook `Consuming ICGC Data.ipynb` has already been run and the downloaded WGS SSM data is stored in the `/data/WGS/` folder of the project directory."
   ],
   "metadata": {
    "collapsed": false
   }
  },
  {
   "cell_type": "code",
   "execution_count": 76,
   "metadata": {
    "collapsed": true
   },
   "outputs": [],
   "source": [
    "import gzip\n",
    "from pathlib import Path\n",
    "import shutil\n",
    "from typing import Dict, List\n",
    "\n",
    "import pandas as pd\n",
    "import pyfaidx\n",
    "import requests\n",
    "from tqdm import tqdm\n",
    "\n",
    "\n",
    "pd.set_option('display.max_columns', None)"
   ]
  },
  {
   "cell_type": "code",
   "execution_count": 2,
   "outputs": [],
   "source": [
    "dir_data = Path.cwd().parent / \"data\"\n",
    "dir_wgs = dir_data / \"WGS/\""
   ],
   "metadata": {
    "collapsed": false,
    "pycharm": {
     "name": "#%%\n"
    }
   }
  },
  {
   "cell_type": "code",
   "execution_count": 3,
   "outputs": [
    {
     "name": "stderr",
     "output_type": "stream",
     "text": [
      "/var/folders/8l/pbcwnq316rz5v5pnyv_sydmn2fsdlk/T/ipykernel_74605/125577739.py:1: DtypeWarning: Columns (22,23,24,26,27,35,39) have mixed types. Specify dtype option on import or set low_memory=False.\n",
      "  data = pd.read_csv(dir_wgs / \"BRCA-UK_ssm_WGS.tsv.gz\", sep=\"\\t\")\n"
     ]
    }
   ],
   "source": [
    "data = pd.read_csv(dir_wgs / \"BRCA-UK_ssm_WGS.tsv.gz\", sep=\"\\t\")"
   ],
   "metadata": {
    "collapsed": false,
    "pycharm": {
     "name": "#%%\n"
    }
   }
  },
  {
   "cell_type": "code",
   "execution_count": 4,
   "outputs": [
    {
     "data": {
      "text/plain": "  icgc_mutation_id icgc_donor_id project_code icgc_specimen_id icgc_sample_id  \\\n0        MU2050016        DO1007      BRCA-UK           SP2150         SA6146   \n1        MU2050016        DO1007      BRCA-UK           SP2150         SA6146   \n2        MU2051169        DO1007      BRCA-UK           SP2150         SA6146   \n3        MU2051169        DO1007      BRCA-UK           SP2150         SA6146   \n4       MU92010295        DO1007      BRCA-UK           SP2150         SA6146   \n\n  matched_icgc_sample_id submitted_sample_id submitted_matched_sample_id  \\\n0                 SA6216             PD4085a                     PD4085b   \n1                 SA6216             PD4085a                     PD4085b   \n2                 SA6216             PD4085a                     PD4085b   \n3                 SA6216             PD4085a                     PD4085b   \n4                 SA6216             PD4085a                     PD4085b   \n\n  chromosome  chromosome_start  chromosome_end  chromosome_strand  \\\n0          9          38437800        38437800                  1   \n1          9          38437800        38437800                  1   \n2          8          93543524        93543524                  1   \n3          8          93543524        93543524                  1   \n4          3          59874611        59874611                  1   \n\n  assembly_version             mutation_type reference_genome_allele  \\\n0           GRCh37  single base substitution                       C   \n1           GRCh37  single base substitution                       C   \n2           GRCh37  single base substitution                       C   \n3           GRCh37  single base substitution                       C   \n4           GRCh37  single base substitution                       C   \n\n  mutated_from_allele mutated_to_allele  quality_score  probability  \\\n0                   C                 T            NaN          NaN   \n1                   C                 T            NaN          NaN   \n2                   C                 T            NaN          NaN   \n3                   C                 T            NaN          NaN   \n4                   C                 T            NaN          NaN   \n\n   total_read_count  mutant_allele_read_count verification_status  \\\n0              33.0                       7.0          not tested   \n1               NaN                       NaN          not tested   \n2               NaN                       NaN          not tested   \n3              54.0                      10.0          not tested   \n4              58.0                       5.0          not tested   \n\n  verification_platform biological_validation_status  \\\n0                   NaN                          NaN   \n1                   NaN                   not tested   \n2                   NaN                   not tested   \n3                   NaN                          NaN   \n4                   NaN                          NaN   \n\n  biological_validation_platform   consequence_type aa_mutation cds_mutation  \\\n0                            NaN  intergenic_region         NaN          NaN   \n1                            NaN  intergenic_region         NaN          NaN   \n2                            NaN  intergenic_region         NaN          NaN   \n3                            NaN  intergenic_region         NaN          NaN   \n4                            NaN     intron_variant         NaN          NaN   \n\n     gene_affected transcript_affected  gene_build_version  \\\n0              NaN                 NaN                75.0   \n1              NaN                 NaN                75.0   \n2              NaN                 NaN                75.0   \n3              NaN                 NaN                75.0   \n4  ENSG00000189283     ENST00000466788                75.0   \n\n                 platform  experimental_protocol sequencing_strategy  \\\n0          Illumina HiSeq                    NaN                 WGS   \n1  Illumina GA sequencing                    NaN                 WXS   \n2  Illumina GA sequencing                    NaN                 WXS   \n3          Illumina HiSeq                    NaN                 WGS   \n4          Illumina HiSeq                    NaN                 WGS   \n\n   base_calling_algorithm                 alignment_algorithm  \\\n0                     NaN                                 NaN   \n1                     NaN  BWA http://bio-bwa.sourceforge.net   \n2                     NaN  BWA http://bio-bwa.sourceforge.net   \n3                     NaN                                 NaN   \n4                     NaN                                 NaN   \n\n                         variation_calling_algorithm  \\\n0                     PCAWG Consensus SNV-MNV caller   \n1  CaVEMan http://www.nature.com/nature/journal/v...   \n2  CaVEMan http://www.nature.com/nature/journal/v...   \n3                     PCAWG Consensus SNV-MNV caller   \n4                     PCAWG Consensus SNV-MNV caller   \n\n   other_analysis_algorithm  seq_coverage raw_data_repository  \\\n0                       NaN           NaN                 NaN   \n1                       NaN           NaN                 EGA   \n2                       NaN           NaN                 EGA   \n3                       NaN           NaN                 NaN   \n4                       NaN           NaN                 NaN   \n\n  raw_data_accession  initial_data_release_date  \n0    FI43481:FI43480                        NaN  \n1    EGAS00001000161                        NaN  \n2    EGAS00001000161                        NaN  \n3    FI43481:FI43480                        NaN  \n4    FI43481:FI43480                        NaN  ",
      "text/html": "<div>\n<style scoped>\n    .dataframe tbody tr th:only-of-type {\n        vertical-align: middle;\n    }\n\n    .dataframe tbody tr th {\n        vertical-align: top;\n    }\n\n    .dataframe thead th {\n        text-align: right;\n    }\n</style>\n<table border=\"1\" class=\"dataframe\">\n  <thead>\n    <tr style=\"text-align: right;\">\n      <th></th>\n      <th>icgc_mutation_id</th>\n      <th>icgc_donor_id</th>\n      <th>project_code</th>\n      <th>icgc_specimen_id</th>\n      <th>icgc_sample_id</th>\n      <th>matched_icgc_sample_id</th>\n      <th>submitted_sample_id</th>\n      <th>submitted_matched_sample_id</th>\n      <th>chromosome</th>\n      <th>chromosome_start</th>\n      <th>chromosome_end</th>\n      <th>chromosome_strand</th>\n      <th>assembly_version</th>\n      <th>mutation_type</th>\n      <th>reference_genome_allele</th>\n      <th>mutated_from_allele</th>\n      <th>mutated_to_allele</th>\n      <th>quality_score</th>\n      <th>probability</th>\n      <th>total_read_count</th>\n      <th>mutant_allele_read_count</th>\n      <th>verification_status</th>\n      <th>verification_platform</th>\n      <th>biological_validation_status</th>\n      <th>biological_validation_platform</th>\n      <th>consequence_type</th>\n      <th>aa_mutation</th>\n      <th>cds_mutation</th>\n      <th>gene_affected</th>\n      <th>transcript_affected</th>\n      <th>gene_build_version</th>\n      <th>platform</th>\n      <th>experimental_protocol</th>\n      <th>sequencing_strategy</th>\n      <th>base_calling_algorithm</th>\n      <th>alignment_algorithm</th>\n      <th>variation_calling_algorithm</th>\n      <th>other_analysis_algorithm</th>\n      <th>seq_coverage</th>\n      <th>raw_data_repository</th>\n      <th>raw_data_accession</th>\n      <th>initial_data_release_date</th>\n    </tr>\n  </thead>\n  <tbody>\n    <tr>\n      <th>0</th>\n      <td>MU2050016</td>\n      <td>DO1007</td>\n      <td>BRCA-UK</td>\n      <td>SP2150</td>\n      <td>SA6146</td>\n      <td>SA6216</td>\n      <td>PD4085a</td>\n      <td>PD4085b</td>\n      <td>9</td>\n      <td>38437800</td>\n      <td>38437800</td>\n      <td>1</td>\n      <td>GRCh37</td>\n      <td>single base substitution</td>\n      <td>C</td>\n      <td>C</td>\n      <td>T</td>\n      <td>NaN</td>\n      <td>NaN</td>\n      <td>33.0</td>\n      <td>7.0</td>\n      <td>not tested</td>\n      <td>NaN</td>\n      <td>NaN</td>\n      <td>NaN</td>\n      <td>intergenic_region</td>\n      <td>NaN</td>\n      <td>NaN</td>\n      <td>NaN</td>\n      <td>NaN</td>\n      <td>75.0</td>\n      <td>Illumina HiSeq</td>\n      <td>NaN</td>\n      <td>WGS</td>\n      <td>NaN</td>\n      <td>NaN</td>\n      <td>PCAWG Consensus SNV-MNV caller</td>\n      <td>NaN</td>\n      <td>NaN</td>\n      <td>NaN</td>\n      <td>FI43481:FI43480</td>\n      <td>NaN</td>\n    </tr>\n    <tr>\n      <th>1</th>\n      <td>MU2050016</td>\n      <td>DO1007</td>\n      <td>BRCA-UK</td>\n      <td>SP2150</td>\n      <td>SA6146</td>\n      <td>SA6216</td>\n      <td>PD4085a</td>\n      <td>PD4085b</td>\n      <td>9</td>\n      <td>38437800</td>\n      <td>38437800</td>\n      <td>1</td>\n      <td>GRCh37</td>\n      <td>single base substitution</td>\n      <td>C</td>\n      <td>C</td>\n      <td>T</td>\n      <td>NaN</td>\n      <td>NaN</td>\n      <td>NaN</td>\n      <td>NaN</td>\n      <td>not tested</td>\n      <td>NaN</td>\n      <td>not tested</td>\n      <td>NaN</td>\n      <td>intergenic_region</td>\n      <td>NaN</td>\n      <td>NaN</td>\n      <td>NaN</td>\n      <td>NaN</td>\n      <td>75.0</td>\n      <td>Illumina GA sequencing</td>\n      <td>NaN</td>\n      <td>WXS</td>\n      <td>NaN</td>\n      <td>BWA http://bio-bwa.sourceforge.net</td>\n      <td>CaVEMan http://www.nature.com/nature/journal/v...</td>\n      <td>NaN</td>\n      <td>NaN</td>\n      <td>EGA</td>\n      <td>EGAS00001000161</td>\n      <td>NaN</td>\n    </tr>\n    <tr>\n      <th>2</th>\n      <td>MU2051169</td>\n      <td>DO1007</td>\n      <td>BRCA-UK</td>\n      <td>SP2150</td>\n      <td>SA6146</td>\n      <td>SA6216</td>\n      <td>PD4085a</td>\n      <td>PD4085b</td>\n      <td>8</td>\n      <td>93543524</td>\n      <td>93543524</td>\n      <td>1</td>\n      <td>GRCh37</td>\n      <td>single base substitution</td>\n      <td>C</td>\n      <td>C</td>\n      <td>T</td>\n      <td>NaN</td>\n      <td>NaN</td>\n      <td>NaN</td>\n      <td>NaN</td>\n      <td>not tested</td>\n      <td>NaN</td>\n      <td>not tested</td>\n      <td>NaN</td>\n      <td>intergenic_region</td>\n      <td>NaN</td>\n      <td>NaN</td>\n      <td>NaN</td>\n      <td>NaN</td>\n      <td>75.0</td>\n      <td>Illumina GA sequencing</td>\n      <td>NaN</td>\n      <td>WXS</td>\n      <td>NaN</td>\n      <td>BWA http://bio-bwa.sourceforge.net</td>\n      <td>CaVEMan http://www.nature.com/nature/journal/v...</td>\n      <td>NaN</td>\n      <td>NaN</td>\n      <td>EGA</td>\n      <td>EGAS00001000161</td>\n      <td>NaN</td>\n    </tr>\n    <tr>\n      <th>3</th>\n      <td>MU2051169</td>\n      <td>DO1007</td>\n      <td>BRCA-UK</td>\n      <td>SP2150</td>\n      <td>SA6146</td>\n      <td>SA6216</td>\n      <td>PD4085a</td>\n      <td>PD4085b</td>\n      <td>8</td>\n      <td>93543524</td>\n      <td>93543524</td>\n      <td>1</td>\n      <td>GRCh37</td>\n      <td>single base substitution</td>\n      <td>C</td>\n      <td>C</td>\n      <td>T</td>\n      <td>NaN</td>\n      <td>NaN</td>\n      <td>54.0</td>\n      <td>10.0</td>\n      <td>not tested</td>\n      <td>NaN</td>\n      <td>NaN</td>\n      <td>NaN</td>\n      <td>intergenic_region</td>\n      <td>NaN</td>\n      <td>NaN</td>\n      <td>NaN</td>\n      <td>NaN</td>\n      <td>75.0</td>\n      <td>Illumina HiSeq</td>\n      <td>NaN</td>\n      <td>WGS</td>\n      <td>NaN</td>\n      <td>NaN</td>\n      <td>PCAWG Consensus SNV-MNV caller</td>\n      <td>NaN</td>\n      <td>NaN</td>\n      <td>NaN</td>\n      <td>FI43481:FI43480</td>\n      <td>NaN</td>\n    </tr>\n    <tr>\n      <th>4</th>\n      <td>MU92010295</td>\n      <td>DO1007</td>\n      <td>BRCA-UK</td>\n      <td>SP2150</td>\n      <td>SA6146</td>\n      <td>SA6216</td>\n      <td>PD4085a</td>\n      <td>PD4085b</td>\n      <td>3</td>\n      <td>59874611</td>\n      <td>59874611</td>\n      <td>1</td>\n      <td>GRCh37</td>\n      <td>single base substitution</td>\n      <td>C</td>\n      <td>C</td>\n      <td>T</td>\n      <td>NaN</td>\n      <td>NaN</td>\n      <td>58.0</td>\n      <td>5.0</td>\n      <td>not tested</td>\n      <td>NaN</td>\n      <td>NaN</td>\n      <td>NaN</td>\n      <td>intron_variant</td>\n      <td>NaN</td>\n      <td>NaN</td>\n      <td>ENSG00000189283</td>\n      <td>ENST00000466788</td>\n      <td>75.0</td>\n      <td>Illumina HiSeq</td>\n      <td>NaN</td>\n      <td>WGS</td>\n      <td>NaN</td>\n      <td>NaN</td>\n      <td>PCAWG Consensus SNV-MNV caller</td>\n      <td>NaN</td>\n      <td>NaN</td>\n      <td>NaN</td>\n      <td>FI43481:FI43480</td>\n      <td>NaN</td>\n    </tr>\n  </tbody>\n</table>\n</div>"
     },
     "execution_count": 4,
     "metadata": {},
     "output_type": "execute_result"
    }
   ],
   "source": [
    "data.head()"
   ],
   "metadata": {
    "collapsed": false,
    "pycharm": {
     "name": "#%%\n"
    }
   }
  },
  {
   "cell_type": "markdown",
   "source": [
    "## Resolving multiple entries for the same mutation in a donor\n",
    "\n",
    "A simple somatic mutation (SSM) donor dataset in the ICGC portal can contain multiple records for the same variant in a donor. These records differ in fields: `consequence_type`, `aa_mutation`, `cds_mutation`, `gene_affected`, and `transcript_affected`. This is the result of [SnpEff](http://pcingola.github.io/SnpEff/), a genome variant annotation and effect prediction tool.\n",
    "\n",
    "A single variant can have multiple functional effects (`consequence_type`). One of the reasons is due to the presence of [multiple gene isoforms](https://en.wikipedia.org/wiki/Gene_isoform). These isoforms, while coming from the same locus, can differ in transcription start site, coding DNA sequences, and/or untranslated regions. As a result, [these gene isoforms can have different functions](https://en.wikipedia.org/wiki/Protein_isoform). Sometimes a variant may be transcribed and can introduce synonymous or missense mutation to the transcript. Other times the variant may not be present in the transcript isoform but can influence splice site recognition. Due to these reasons, for the same variant in a donor, we can have multiple `transcript_affected` for the same `gene_affected`.\n",
    "\n",
    "Additionally, sometimes a variant can exist some distance upstream/downstream of another gene and influence its transcription. As a result, `gene_affected` can also differ for the same variant in a donor."
   ],
   "metadata": {
    "collapsed": false
   }
  },
  {
   "cell_type": "code",
   "execution_count": 5,
   "outputs": [
    {
     "name": "stdout",
     "output_type": "stream",
     "text": [
      "Before cleaning:\n",
      "Donor ID# DO1076 has 490,103 records.\n",
      "But they contain only 73,563 unique variants.\n"
     ]
    }
   ],
   "source": [
    "print(\"Before cleaning:\")\n",
    "\n",
    "donor_id = \"DO1076\"\n",
    "\n",
    "print(f\"Donor ID# {donor_id} has {(data.loc[data['icgc_donor_id'] == donor_id].shape[0]):,} records.\")\n",
    "print(f\"But they contain only {(data.loc[data['icgc_donor_id'] == donor_id]['icgc_mutation_id'].nunique()):,} unique variants.\")"
   ],
   "metadata": {
    "collapsed": false,
    "pycharm": {
     "name": "#%%\n"
    }
   }
  },
  {
   "cell_type": "code",
   "execution_count": 6,
   "outputs": [],
   "source": [
    "select_columns = [\n",
    "    \"icgc_mutation_id\", \"project_code\", \"icgc_donor_id\",\n",
    "    \"chromosome\", \"chromosome_start\", \"chromosome_end\",\n",
    "    \"assembly_version\", \"mutation_type\", \"reference_genome_allele\",\n",
    "    \"mutated_to_allele\",\n",
    "]"
   ],
   "metadata": {
    "collapsed": false,
    "pycharm": {
     "name": "#%%\n"
    }
   }
  },
  {
   "cell_type": "code",
   "execution_count": 7,
   "outputs": [
    {
     "name": "stdout",
     "output_type": "stream",
     "text": [
      "Data dimensions: 1,851,540 instances and 10 columns.\n"
     ]
    }
   ],
   "source": [
    "data = data[select_columns]\n",
    "\n",
    "print(f\"Data dimensions: {data.shape[0]:,} instances and {data.shape[1]} columns.\")"
   ],
   "metadata": {
    "collapsed": false,
    "pycharm": {
     "name": "#%%\n"
    }
   }
  },
  {
   "cell_type": "code",
   "execution_count": 8,
   "outputs": [
    {
     "name": "stdout",
     "output_type": "stream",
     "text": [
      "Number of instances after removing multiple records per variant in a donor: 398,988\n"
     ]
    }
   ],
   "source": [
    "data = data.drop_duplicates(subset=[\"icgc_donor_id\", \"icgc_mutation_id\"])\n",
    "data = data.reset_index(drop=True)\n",
    "\n",
    "print(f\"Number of instances after removing multiple records per variant in a donor: {data.shape[0]:,}\")"
   ],
   "metadata": {
    "collapsed": false,
    "pycharm": {
     "name": "#%%\n"
    }
   }
  },
  {
   "cell_type": "code",
   "execution_count": 9,
   "outputs": [
    {
     "name": "stdout",
     "output_type": "stream",
     "text": [
      "After cleaning:\n",
      "Donor ID# DO1076 has 73,563 records.\n",
      "And they contain 73,563 unique variants.\n"
     ]
    }
   ],
   "source": [
    "print(\"After cleaning:\")\n",
    "\n",
    "donor_id = \"DO1076\"\n",
    "\n",
    "print(f\"Donor ID# {donor_id} has {(data.loc[data['icgc_donor_id'] == donor_id].shape[0]):,} records.\")\n",
    "print(f\"And they contain {(data.loc[data['icgc_donor_id'] == donor_id]['icgc_mutation_id'].nunique()):,} unique variants.\")"
   ],
   "metadata": {
    "collapsed": false,
    "pycharm": {
     "name": "#%%\n"
    }
   }
  },
  {
   "cell_type": "code",
   "execution_count": 10,
   "outputs": [
    {
     "data": {
      "text/plain": "  icgc_mutation_id project_code icgc_donor_id chromosome  chromosome_start  \\\n0        MU2050016      BRCA-UK        DO1007          9          38437800   \n1        MU2051169      BRCA-UK        DO1007          8          93543524   \n2       MU92010295      BRCA-UK        DO1007          3          59874611   \n3        MU2047337      BRCA-UK        DO1007         11          10531779   \n4       MU65416208      BRCA-UK        DO1007         17          46826739   \n\n   chromosome_end assembly_version             mutation_type  \\\n0        38437800           GRCh37  single base substitution   \n1        93543524           GRCh37  single base substitution   \n2        59874611           GRCh37  single base substitution   \n3        10531779           GRCh37  single base substitution   \n4        46826739           GRCh37  single base substitution   \n\n  reference_genome_allele mutated_to_allele  \n0                       C                 T  \n1                       C                 T  \n2                       C                 T  \n3                       C                 T  \n4                       C                 G  ",
      "text/html": "<div>\n<style scoped>\n    .dataframe tbody tr th:only-of-type {\n        vertical-align: middle;\n    }\n\n    .dataframe tbody tr th {\n        vertical-align: top;\n    }\n\n    .dataframe thead th {\n        text-align: right;\n    }\n</style>\n<table border=\"1\" class=\"dataframe\">\n  <thead>\n    <tr style=\"text-align: right;\">\n      <th></th>\n      <th>icgc_mutation_id</th>\n      <th>project_code</th>\n      <th>icgc_donor_id</th>\n      <th>chromosome</th>\n      <th>chromosome_start</th>\n      <th>chromosome_end</th>\n      <th>assembly_version</th>\n      <th>mutation_type</th>\n      <th>reference_genome_allele</th>\n      <th>mutated_to_allele</th>\n    </tr>\n  </thead>\n  <tbody>\n    <tr>\n      <th>0</th>\n      <td>MU2050016</td>\n      <td>BRCA-UK</td>\n      <td>DO1007</td>\n      <td>9</td>\n      <td>38437800</td>\n      <td>38437800</td>\n      <td>GRCh37</td>\n      <td>single base substitution</td>\n      <td>C</td>\n      <td>T</td>\n    </tr>\n    <tr>\n      <th>1</th>\n      <td>MU2051169</td>\n      <td>BRCA-UK</td>\n      <td>DO1007</td>\n      <td>8</td>\n      <td>93543524</td>\n      <td>93543524</td>\n      <td>GRCh37</td>\n      <td>single base substitution</td>\n      <td>C</td>\n      <td>T</td>\n    </tr>\n    <tr>\n      <th>2</th>\n      <td>MU92010295</td>\n      <td>BRCA-UK</td>\n      <td>DO1007</td>\n      <td>3</td>\n      <td>59874611</td>\n      <td>59874611</td>\n      <td>GRCh37</td>\n      <td>single base substitution</td>\n      <td>C</td>\n      <td>T</td>\n    </tr>\n    <tr>\n      <th>3</th>\n      <td>MU2047337</td>\n      <td>BRCA-UK</td>\n      <td>DO1007</td>\n      <td>11</td>\n      <td>10531779</td>\n      <td>10531779</td>\n      <td>GRCh37</td>\n      <td>single base substitution</td>\n      <td>C</td>\n      <td>T</td>\n    </tr>\n    <tr>\n      <th>4</th>\n      <td>MU65416208</td>\n      <td>BRCA-UK</td>\n      <td>DO1007</td>\n      <td>17</td>\n      <td>46826739</td>\n      <td>46826739</td>\n      <td>GRCh37</td>\n      <td>single base substitution</td>\n      <td>C</td>\n      <td>G</td>\n    </tr>\n  </tbody>\n</table>\n</div>"
     },
     "execution_count": 10,
     "metadata": {},
     "output_type": "execute_result"
    }
   ],
   "source": [
    "data.head()"
   ],
   "metadata": {
    "collapsed": false,
    "pycharm": {
     "name": "#%%\n"
    }
   }
  },
  {
   "cell_type": "markdown",
   "source": [
    "## Converting each ICGC SSM dataset into a set of MAF files (one per donor)\n",
    "\n",
    "For each SSM dataset—\n",
    "* Select only columns relevant for the creation of mutational spectra matrix.\n",
    "* Remove multiple records for the same variant in an individual as a result of SnpEff variant annotation tool.\n",
    "* Segregate individuals by donor IDs.\n",
    "* Sort records for each donor by chromosome name, and then by start position."
   ],
   "metadata": {
    "collapsed": false
   }
  },
  {
   "cell_type": "code",
   "execution_count": 11,
   "outputs": [],
   "source": [
    "def read_ssm_dataset(filepath: Path) -> pd.DataFrame:\n",
    "    \"\"\"\n",
    "    Reads an ICGC SSM file as a pandas dataframe.\n",
    "\n",
    "    :param filepath: file path to the SSM dataset.\n",
    "    :return: pandas dataframe selecting only the columns relevant to mutational\n",
    "        signatures analysis.\n",
    "    \"\"\"\n",
    "    select_columns = [\n",
    "        \"icgc_mutation_id\", \"project_code\", \"icgc_donor_id\",\n",
    "        \"chromosome\", \"chromosome_start\", \"chromosome_end\",\n",
    "        \"assembly_version\", \"mutation_type\", \"reference_genome_allele\",\n",
    "        \"mutated_to_allele\",\n",
    "    ]\n",
    "\n",
    "    return pd.read_csv(filepath, usecols=select_columns, sep=\"\\t\")\n",
    "\n",
    "\n",
    "def clean_ssm_dataset(data: pd.DataFrame) -> pd.DataFrame:\n",
    "    \"\"\"\n",
    "    Keeps only one variant per donor ID and drops the rest. The repeats are due to\n",
    "    the SnpEff annotation tool, which is initially irrelevant for signature analysis.\n",
    "\n",
    "    :param data: a dataframe of SSM.\n",
    "    :return: a dataframe of SSM without repeats\n",
    "    \"\"\"\n",
    "    return data.drop_duplicates(subset=[\"icgc_donor_id\", \"icgc_mutation_id\"]).reset_index(drop=True)\n",
    "\n",
    "\n",
    "def segregate_ids_and_save_as_maf(data: pd.DataFrame,\n",
    "                                  dir_output: Path) -> None:\n",
    "    \"\"\"\n",
    "    Takes an ICGC SSM dataset, groups them by donor ID, then for each donor ID,\n",
    "    sorts the records by chromosome number and then by chromosome start position,\n",
    "    and finally writes this dataset as an MAF file.\n",
    "\n",
    "    :param data: SSM dataframe\n",
    "    :param dir_output: output directory for the MAF files.\n",
    "    \"\"\"\n",
    "    for donor_id in data[\"icgc_donor_id\"].unique():\n",
    "        data_id = data.loc[data[\"icgc_donor_id\"] == donor_id]\n",
    "        data_id = data_id.loc[pd.to_numeric(data_id[\"chromosome\"], errors=\"coerce\").sort_values().index]\n",
    "        data_id = data_id.groupby(\"chromosome\", sort=False)\\\n",
    "            .apply(pd.DataFrame.sort_values, \"chromosome_start\")\\\n",
    "            .reset_index(drop=True)\n",
    "        data_id.to_csv(dir_output / f\"{donor_id}\", sep=\"\\t\", index=False)\n",
    "\n",
    "\n",
    "def convert_ssms_to_mafs(dir_datasets: Path, dir_output: Path) -> None:\n",
    "    \"\"\"\n",
    "    Converts each SSM dataset in a directory into MAF files.\n",
    "\n",
    "    :param dir_datasets: directory containing SSM datasets.\n",
    "    :param dir_output: directory to store MAF files.\n",
    "    \"\"\"\n",
    "    filepaths = list(dir_datasets.glob(\"*.tsv.gz\"))\n",
    "\n",
    "    dir_output = dir_output / (dir_datasets.name + \"_MAF\")\n",
    "    if not dir_output.exists():\n",
    "        dir_output.mkdir()\n",
    "\n",
    "    for filepath in filepaths:\n",
    "        data = read_ssm_dataset(filepath)\n",
    "        data = clean_ssm_dataset(data)\n",
    "        dir_output_file = dir_output / (filepath.stem.split(\"_\")[0])\n",
    "        if not dir_output_file.exists():\n",
    "            dir_output_file.mkdir()\n",
    "        segregate_ids_and_save_as_maf(data, dir_output_file)"
   ],
   "metadata": {
    "collapsed": false,
    "pycharm": {
     "name": "#%%\n"
    }
   }
  },
  {
   "cell_type": "code",
   "execution_count": 12,
   "outputs": [
    {
     "name": "stderr",
     "output_type": "stream",
     "text": [
      "/var/folders/8l/pbcwnq316rz5v5pnyv_sydmn2fsdlk/T/ipykernel_74605/1962696398.py:16: DtypeWarning: Columns (8) have mixed types. Specify dtype option on import or set low_memory=False.\n",
      "  return pd.read_csv(filepath, usecols=select_columns, sep=\"\\t\")\n"
     ]
    }
   ],
   "source": [
    "convert_ssms_to_mafs(dir_wgs, dir_data)"
   ],
   "metadata": {
    "collapsed": false,
    "pycharm": {
     "name": "#%%\n"
    }
   }
  },
  {
   "cell_type": "markdown",
   "source": [
    "## Converting MAF files to mutational spectra matrix"
   ],
   "metadata": {
    "collapsed": false
   }
  },
  {
   "cell_type": "code",
   "execution_count": 50,
   "outputs": [],
   "source": [
    "def download_grch37(filepath: Path) -> None:\n",
    "    \"\"\"\n",
    "    Downloads a compressed FASTA file of the reference genome GRCh37 from the\n",
    "    UCSC Genome Browser API.\n",
    "\n",
    "    :param filepath: output directory.\n",
    "    \"\"\"\n",
    "    url = \"https://hgdownload.soe.ucsc.edu/goldenPath/hg19/bigZips/hg19.fa.gz\"\n",
    "    headers = {\"Accept\": \"application/x-gzip\"}\n",
    "\n",
    "    response = requests.get(url, headers=headers,\n",
    "                            verify=False, stream=True)\n",
    "    if response.status_code != 200:\n",
    "        raise IOError(f\"GET {url} resulted in status code {response.status_code}\")\n",
    "\n",
    "    with open(filepath, \"wb\") as f:\n",
    "        for data in tqdm(response.iter_content(10*1024**2)):\n",
    "            f.write(data)"
   ],
   "metadata": {
    "collapsed": false,
    "pycharm": {
     "name": "#%%\n"
    }
   }
  },
  {
   "cell_type": "code",
   "execution_count": null,
   "outputs": [],
   "source": [
    "fpath_compressed_grch37 = dir_data / \"hg19.fa.gz\"\n",
    "download_grch37(fpath_compressed_grch37)"
   ],
   "metadata": {
    "collapsed": false,
    "pycharm": {
     "name": "#%%\n"
    }
   }
  },
  {
   "cell_type": "code",
   "execution_count": 72,
   "outputs": [],
   "source": [
    "def gunzip(gzipped_filepath: Path, gunzipped_filepath: Path) -> None:\n",
    "    \"\"\"\n",
    "    Uncompress a gzipped file.\n",
    "\n",
    "    :param gzipped_filepath: gzip compressed filepath.\n",
    "    :param gunzipped_filepath: filepath for unzipped file.\n",
    "    \"\"\"\n",
    "    with gzip.open(gzipped_filepath, \"rb\") as f_src:\n",
    "        with open(gunzipped_filepath, \"wb\") as f_dest:\n",
    "            shutil.copyfileobj(f_src, f_dest, length=10*1024**2)"
   ],
   "metadata": {
    "collapsed": false,
    "pycharm": {
     "name": "#%%\n"
    }
   }
  },
  {
   "cell_type": "code",
   "execution_count": 73,
   "outputs": [],
   "source": [
    "fpath_grch37 = dir_data / \"hg19.fa\"\n",
    "gunzip(fpath_compressed_grch37, fpath_grch37)"
   ],
   "metadata": {
    "collapsed": false,
    "pycharm": {
     "name": "#%%\n"
    }
   }
  },
  {
   "cell_type": "code",
   "execution_count": null,
   "outputs": [],
   "source": [
    "def get_sbs_trinucleotide_contexts() -> List[str]:\n",
    "    sbs_trinucleotide_contexts = []\n",
    "    nucleotide_bases = [\"A\", \"C\", \"G\", \"T\"]\n",
    "    substitution_types = [\"C>A\", \"C>G\", \"C>T\", \"T>A\", \"T>C\", \"T>G\"]\n",
    "\n",
    "    for base_5 in nucleotide_bases:\n",
    "        for base_3 in nucleotide_bases:\n",
    "            for substitution in substitution_types:\n",
    "                sbs_trinucleotide_contexts.append(f\"{base_5}[{substitution}]{base_3}\")\n",
    "\n",
    "    return sbs_trinucleotide_contexts\n",
    "\n",
    "\n",
    "def init_sbs_mutational_spectra(n_records: int) -> Dict[str, List[int]]:\n",
    "    sbs_mutational_spectra = dict()\n",
    "    sbs_trinucleotide_contexts = get_sbs_trinucleotide_contexts()\n",
    "\n",
    "    for context in sbs_trinucleotide_contexts:\n",
    "        sbs_mutational_spectra[context] = [0]*n_records\n",
    "\n",
    "    return sbs_mutational_spectra\n",
    "\n",
    "\n",
    "def index_reference_genome(ref_fasta_filepath: Path) -> pyfaidx.Fasta:\n",
    "    return pyfaidx.Fasta(ref_fasta_filepath)\n",
    "\n",
    "\n",
    "def read_sbs_maf_file(filepath: Path) -> pd.DataFrame:\n",
    "    data = pd.read_csv(filepath, sep=\"\\t\")\n",
    "    data = data.loc[data[\"mutation_type\"] == \"single base substitution\"].reset_index(drop=True)\n",
    "\n",
    "    return data\n",
    "\n",
    "\n",
    "def add_instance_to_mutational_spectra(maf_filepath: Path,\n",
    "                                       mutational_spectra: Dict[str, List[int]], index):\n",
    "    pass\n",
    "\n",
    "\n",
    "def convert_mafs_to_sbs_mutational_spectra(dir_mafs: Path, ref_fasta_filepath: Path):\n",
    "    maf_filepaths = list(dir_mafs.glob(\"*\"))\n",
    "    n_samples = len(maf_filepaths)\n",
    "    mutational_spectra = init_sbs_mutational_spectra(n_samples)\n",
    "\n",
    "    ref_fasta = index_reference_genome(ref_fasta_filepath)\n",
    "\n",
    "    donor_index = 0\n",
    "    for maf_filepath in maf_filepaths:\n",
    "        data_maf = read_sbs_maf_file(maf_filepath)\n",
    "        add_instance_to_mutational_spectra(data_maf, mutational_spectra, donor_index)\n",
    "        donor_index += 1"
   ],
   "metadata": {
    "collapsed": false,
    "pycharm": {
     "name": "#%%\n"
    }
   }
  },
  {
   "cell_type": "code",
   "execution_count": null,
   "outputs": [],
   "source": [],
   "metadata": {
    "collapsed": false,
    "pycharm": {
     "name": "#%%\n"
    }
   }
  },
  {
   "cell_type": "code",
   "execution_count": 74,
   "outputs": [],
   "source": [
    "temp = pyfaidx.Fasta(fpath_grch37.as_posix())"
   ],
   "metadata": {
    "collapsed": false,
    "pycharm": {
     "name": "#%%\n"
    }
   }
  },
  {
   "cell_type": "code",
   "execution_count": 92,
   "outputs": [
    {
     "data": {
      "text/plain": ">chrX:2232002-2232004\ngtt"
     },
     "execution_count": 92,
     "metadata": {},
     "output_type": "execute_result"
    }
   ],
   "source": [
    "temp[\"chrX\"][2232001:2232004]"
   ],
   "metadata": {
    "collapsed": false,
    "pycharm": {
     "name": "#%%\n"
    }
   }
  },
  {
   "cell_type": "code",
   "execution_count": 90,
   "outputs": [
    {
     "data": {
      "text/plain": "odict_keys(['chr1', 'chr2', 'chr3', 'chr4', 'chr5', 'chr6', 'chr7', 'chrX', 'chr8', 'chr9', 'chr10', 'chr11', 'chr12', 'chr13', 'chr14', 'chr15', 'chr16', 'chr17', 'chr18', 'chr20', 'chrY', 'chr19', 'chr22', 'chr21', 'chr6_ssto_hap7', 'chr6_mcf_hap5', 'chr6_cox_hap2', 'chr6_mann_hap4', 'chr6_apd_hap1', 'chr6_qbl_hap6', 'chr6_dbb_hap3', 'chr17_ctg5_hap1', 'chr4_ctg9_hap1', 'chr1_gl000192_random', 'chrUn_gl000225', 'chr4_gl000194_random', 'chr4_gl000193_random', 'chr9_gl000200_random', 'chrUn_gl000222', 'chrUn_gl000212', 'chr7_gl000195_random', 'chrUn_gl000223', 'chrUn_gl000224', 'chrUn_gl000219', 'chr17_gl000205_random', 'chrUn_gl000215', 'chrUn_gl000216', 'chrUn_gl000217', 'chr9_gl000199_random', 'chrUn_gl000211', 'chrUn_gl000213', 'chrUn_gl000220', 'chrUn_gl000218', 'chr19_gl000209_random', 'chrUn_gl000221', 'chrUn_gl000214', 'chrUn_gl000228', 'chrUn_gl000227', 'chr1_gl000191_random', 'chr19_gl000208_random', 'chr9_gl000198_random', 'chr17_gl000204_random', 'chrUn_gl000233', 'chrUn_gl000237', 'chrUn_gl000230', 'chrUn_gl000242', 'chrUn_gl000243', 'chrUn_gl000241', 'chrUn_gl000236', 'chrUn_gl000240', 'chr17_gl000206_random', 'chrUn_gl000232', 'chrUn_gl000234', 'chr11_gl000202_random', 'chrUn_gl000238', 'chrUn_gl000244', 'chrUn_gl000248', 'chr8_gl000196_random', 'chrUn_gl000249', 'chrUn_gl000246', 'chr17_gl000203_random', 'chr8_gl000197_random', 'chrUn_gl000245', 'chrUn_gl000247', 'chr9_gl000201_random', 'chrUn_gl000235', 'chrUn_gl000239', 'chr21_gl000210_random', 'chrUn_gl000231', 'chrUn_gl000229', 'chrM', 'chrUn_gl000226', 'chr18_gl000207_random'])"
     },
     "execution_count": 90,
     "metadata": {},
     "output_type": "execute_result"
    }
   ],
   "source": [
    "temp.keys()"
   ],
   "metadata": {
    "collapsed": false,
    "pycharm": {
     "name": "#%%\n"
    }
   }
  },
  {
   "cell_type": "code",
   "execution_count": 38,
   "outputs": [],
   "source": [
    "data = pd.read_csv(dir_data / \"WGS_MAF/BRCA-UK/DO52539\", sep=\"\\t\")"
   ],
   "metadata": {
    "collapsed": false,
    "pycharm": {
     "name": "#%%\n"
    }
   }
  },
  {
   "cell_type": "code",
   "execution_count": 57,
   "outputs": [],
   "source": [
    "temp = data.loc[data[\"mutation_type\"] == \"single base substitution\"].reset_index(drop=True)"
   ],
   "metadata": {
    "collapsed": false,
    "pycharm": {
     "name": "#%%\n"
    }
   }
  },
  {
   "cell_type": "code",
   "execution_count": 58,
   "outputs": [
    {
     "name": "stdout",
     "output_type": "stream",
     "text": [
      "4663\n"
     ]
    }
   ],
   "source": [
    "count = 0\n",
    "for _, row in temp.iterrows():\n",
    "    count+=1\n",
    "print(count)"
   ],
   "metadata": {
    "collapsed": false,
    "pycharm": {
     "name": "#%%\n"
    }
   }
  },
  {
   "cell_type": "code",
   "execution_count": 59,
   "outputs": [
    {
     "data": {
      "text/plain": "  icgc_mutation_id icgc_donor_id project_code chromosome  chromosome_start  \\\n0       MU92419411       DO52539      BRCA-UK          1            829072   \n1       MU63450989       DO52539      BRCA-UK          1           4346087   \n2       MU63450992       DO52539      BRCA-UK          1           4388443   \n3       MU63450995       DO52539      BRCA-UK          1           4864061   \n4       MU63450998       DO52539      BRCA-UK          1           4971737   \n5       MU92419458       DO52539      BRCA-UK          1           7580988   \n6       MU63451004       DO52539      BRCA-UK          1           7996239   \n7       MU63451011       DO52539      BRCA-UK          1           8811763   \n8       MU92419464       DO52539      BRCA-UK          1           9159992   \n9       MU92419479       DO52539      BRCA-UK          1           9459735   \n\n   chromosome_end assembly_version             mutation_type  \\\n0          829072           GRCh37  single base substitution   \n1         4346087           GRCh37  single base substitution   \n2         4388443           GRCh37  single base substitution   \n3         4864061           GRCh37  single base substitution   \n4         4971737           GRCh37  single base substitution   \n5         7580988           GRCh37  single base substitution   \n6         7996239           GRCh37  single base substitution   \n7         8811763           GRCh37  single base substitution   \n8         9159992           GRCh37  single base substitution   \n9         9459735           GRCh37  single base substitution   \n\n  reference_genome_allele mutated_to_allele  \n0                       G                 C  \n1                       T                 A  \n2                       A                 G  \n3                       G                 A  \n4                       C                 T  \n5                       G                 A  \n6                       G                 A  \n7                       G                 A  \n8                       C                 G  \n9                       G                 C  ",
      "text/html": "<div>\n<style scoped>\n    .dataframe tbody tr th:only-of-type {\n        vertical-align: middle;\n    }\n\n    .dataframe tbody tr th {\n        vertical-align: top;\n    }\n\n    .dataframe thead th {\n        text-align: right;\n    }\n</style>\n<table border=\"1\" class=\"dataframe\">\n  <thead>\n    <tr style=\"text-align: right;\">\n      <th></th>\n      <th>icgc_mutation_id</th>\n      <th>icgc_donor_id</th>\n      <th>project_code</th>\n      <th>chromosome</th>\n      <th>chromosome_start</th>\n      <th>chromosome_end</th>\n      <th>assembly_version</th>\n      <th>mutation_type</th>\n      <th>reference_genome_allele</th>\n      <th>mutated_to_allele</th>\n    </tr>\n  </thead>\n  <tbody>\n    <tr>\n      <th>0</th>\n      <td>MU92419411</td>\n      <td>DO52539</td>\n      <td>BRCA-UK</td>\n      <td>1</td>\n      <td>829072</td>\n      <td>829072</td>\n      <td>GRCh37</td>\n      <td>single base substitution</td>\n      <td>G</td>\n      <td>C</td>\n    </tr>\n    <tr>\n      <th>1</th>\n      <td>MU63450989</td>\n      <td>DO52539</td>\n      <td>BRCA-UK</td>\n      <td>1</td>\n      <td>4346087</td>\n      <td>4346087</td>\n      <td>GRCh37</td>\n      <td>single base substitution</td>\n      <td>T</td>\n      <td>A</td>\n    </tr>\n    <tr>\n      <th>2</th>\n      <td>MU63450992</td>\n      <td>DO52539</td>\n      <td>BRCA-UK</td>\n      <td>1</td>\n      <td>4388443</td>\n      <td>4388443</td>\n      <td>GRCh37</td>\n      <td>single base substitution</td>\n      <td>A</td>\n      <td>G</td>\n    </tr>\n    <tr>\n      <th>3</th>\n      <td>MU63450995</td>\n      <td>DO52539</td>\n      <td>BRCA-UK</td>\n      <td>1</td>\n      <td>4864061</td>\n      <td>4864061</td>\n      <td>GRCh37</td>\n      <td>single base substitution</td>\n      <td>G</td>\n      <td>A</td>\n    </tr>\n    <tr>\n      <th>4</th>\n      <td>MU63450998</td>\n      <td>DO52539</td>\n      <td>BRCA-UK</td>\n      <td>1</td>\n      <td>4971737</td>\n      <td>4971737</td>\n      <td>GRCh37</td>\n      <td>single base substitution</td>\n      <td>C</td>\n      <td>T</td>\n    </tr>\n    <tr>\n      <th>5</th>\n      <td>MU92419458</td>\n      <td>DO52539</td>\n      <td>BRCA-UK</td>\n      <td>1</td>\n      <td>7580988</td>\n      <td>7580988</td>\n      <td>GRCh37</td>\n      <td>single base substitution</td>\n      <td>G</td>\n      <td>A</td>\n    </tr>\n    <tr>\n      <th>6</th>\n      <td>MU63451004</td>\n      <td>DO52539</td>\n      <td>BRCA-UK</td>\n      <td>1</td>\n      <td>7996239</td>\n      <td>7996239</td>\n      <td>GRCh37</td>\n      <td>single base substitution</td>\n      <td>G</td>\n      <td>A</td>\n    </tr>\n    <tr>\n      <th>7</th>\n      <td>MU63451011</td>\n      <td>DO52539</td>\n      <td>BRCA-UK</td>\n      <td>1</td>\n      <td>8811763</td>\n      <td>8811763</td>\n      <td>GRCh37</td>\n      <td>single base substitution</td>\n      <td>G</td>\n      <td>A</td>\n    </tr>\n    <tr>\n      <th>8</th>\n      <td>MU92419464</td>\n      <td>DO52539</td>\n      <td>BRCA-UK</td>\n      <td>1</td>\n      <td>9159992</td>\n      <td>9159992</td>\n      <td>GRCh37</td>\n      <td>single base substitution</td>\n      <td>C</td>\n      <td>G</td>\n    </tr>\n    <tr>\n      <th>9</th>\n      <td>MU92419479</td>\n      <td>DO52539</td>\n      <td>BRCA-UK</td>\n      <td>1</td>\n      <td>9459735</td>\n      <td>9459735</td>\n      <td>GRCh37</td>\n      <td>single base substitution</td>\n      <td>G</td>\n      <td>C</td>\n    </tr>\n  </tbody>\n</table>\n</div>"
     },
     "execution_count": 59,
     "metadata": {},
     "output_type": "execute_result"
    }
   ],
   "source": [
    "temp.head(10)"
   ],
   "metadata": {
    "collapsed": false,
    "pycharm": {
     "name": "#%%\n"
    }
   }
  },
  {
   "cell_type": "code",
   "execution_count": null,
   "outputs": [],
   "source": [],
   "metadata": {
    "collapsed": false,
    "pycharm": {
     "name": "#%%\n"
    }
   }
  }
 ],
 "metadata": {
  "kernelspec": {
   "display_name": "Python 3",
   "language": "python",
   "name": "python3"
  },
  "language_info": {
   "codemirror_mode": {
    "name": "ipython",
    "version": 2
   },
   "file_extension": ".py",
   "mimetype": "text/x-python",
   "name": "python",
   "nbconvert_exporter": "python",
   "pygments_lexer": "ipython2",
   "version": "2.7.6"
  }
 },
 "nbformat": 4,
 "nbformat_minor": 0
}