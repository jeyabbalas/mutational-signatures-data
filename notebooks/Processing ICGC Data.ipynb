{
 "cells": [
  {
   "cell_type": "markdown",
   "source": [
    "# Processing ICGC Data for Mutational Signatures Analysis"
   ],
   "metadata": {
    "collapsed": false
   }
  },
  {
   "cell_type": "code",
   "execution_count": 5,
   "metadata": {
    "collapsed": true
   },
   "outputs": [],
   "source": [
    "from pathlib import Path\n",
    "import tarfile\n",
    "\n",
    "import pandas as pd"
   ]
  },
  {
   "cell_type": "code",
   "execution_count": 2,
   "outputs": [],
   "source": [
    "data_dir = Path.cwd().parent / \"data\""
   ],
   "metadata": {
    "collapsed": false,
    "pycharm": {
     "name": "#%%\n"
    }
   }
  },
  {
   "cell_type": "code",
   "execution_count": 3,
   "outputs": [],
   "source": [
    "brca_projects = [\"BRCA-EU\", \"BRCA-FR\", \"BRCA-UK\", \"BRCA-US\"]\n",
    "datatype = \"ssm\"\n",
    "analysis_type = \"WGS\""
   ],
   "metadata": {
    "collapsed": false,
    "pycharm": {
     "name": "#%%\n"
    }
   }
  },
  {
   "cell_type": "code",
   "execution_count": 15,
   "outputs": [],
   "source": [
    "temp = pd.read_csv(data_dir / \"BRCA-US_ssm_WGS.tsv.gz\", sep=\"\\t\")"
   ],
   "metadata": {
    "collapsed": false,
    "pycharm": {
     "name": "#%%\n"
    }
   }
  },
  {
   "cell_type": "code",
   "execution_count": 16,
   "outputs": [
    {
     "data": {
      "text/plain": "  icgc_mutation_id icgc_donor_id project_code icgc_specimen_id icgc_sample_id  \\\n0          MU25172        DO1954      BRCA-US           SP4265        SA46776   \n1          MU25172        DO1954      BRCA-US           SP4265        SA46776   \n2          MU25172        DO1954      BRCA-US           SP4265        SA46776   \n3          MU25172        DO1954      BRCA-US           SP4265        SA46776   \n4          MU25172        DO1954      BRCA-US           SP4265        SA46800   \n\n  matched_icgc_sample_id           submitted_sample_id  \\\n0                SA46883  TCGA-B6-A0RU-01A-11D-A099-09   \n1                SA46883  TCGA-B6-A0RU-01A-11D-A099-09   \n2                SA46883  TCGA-B6-A0RU-01A-11D-A099-09   \n3                SA46883  TCGA-B6-A0RU-01A-11D-A099-09   \n4                SA46919  TCGA-B6-A0RU-01A-11D-A12L-09   \n\n    submitted_matched_sample_id chromosome  chromosome_start  ...  \\\n0  TCGA-B6-A0RU-10A-01D-A099-09          3          48697354  ...   \n1  TCGA-B6-A0RU-10A-01D-A099-09          3          48697354  ...   \n2  TCGA-B6-A0RU-10A-01D-A099-09          3          48697354  ...   \n3  TCGA-B6-A0RU-10A-01D-A099-09          3          48697354  ...   \n4  TCGA-B6-A0RU-10B-01D-A12L-09          3          48697354  ...   \n\n   experimental_protocol  sequencing_strategy base_calling_algorithm  \\\n0                    NaN                  WXS                    NaN   \n1                    NaN                  WXS                    NaN   \n2                    NaN                  WXS                    NaN   \n3                    NaN                  WXS                    NaN   \n4                    NaN                  WGS                    NaN   \n\n  alignment_algorithm                        variation_calling_algorithm  \\\n0                 NaN  TCGA-MC3 https://gdc.cancer.gov/about-data/pub...   \n1                 NaN  TCGA-MC3 https://gdc.cancer.gov/about-data/pub...   \n2                 NaN  TCGA-MC3 https://gdc.cancer.gov/about-data/pub...   \n3                 NaN  TCGA-MC3 https://gdc.cancer.gov/about-data/pub...   \n4                 NaN                     PCAWG Consensus SNV-MNV caller   \n\n  other_analysis_algorithm seq_coverage  raw_data_repository  \\\n0                      NaN          NaN                  GDC   \n1                      NaN          NaN                  GDC   \n2                      NaN          NaN                  GDC   \n3                      NaN          NaN                  GDC   \n4                      NaN          NaN                  NaN   \n\n             raw_data_accession  initial_data_release_date  \n0  TCGA-B6-A0RU-01A-11D-A099-09                        NaN  \n1  TCGA-B6-A0RU-01A-11D-A099-09                        NaN  \n2  TCGA-B6-A0RU-01A-11D-A099-09                        NaN  \n3  TCGA-B6-A0RU-01A-11D-A099-09                        NaN  \n4                 FI1261:FI1260                        NaN  \n\n[5 rows x 42 columns]",
      "text/html": "<div>\n<style scoped>\n    .dataframe tbody tr th:only-of-type {\n        vertical-align: middle;\n    }\n\n    .dataframe tbody tr th {\n        vertical-align: top;\n    }\n\n    .dataframe thead th {\n        text-align: right;\n    }\n</style>\n<table border=\"1\" class=\"dataframe\">\n  <thead>\n    <tr style=\"text-align: right;\">\n      <th></th>\n      <th>icgc_mutation_id</th>\n      <th>icgc_donor_id</th>\n      <th>project_code</th>\n      <th>icgc_specimen_id</th>\n      <th>icgc_sample_id</th>\n      <th>matched_icgc_sample_id</th>\n      <th>submitted_sample_id</th>\n      <th>submitted_matched_sample_id</th>\n      <th>chromosome</th>\n      <th>chromosome_start</th>\n      <th>...</th>\n      <th>experimental_protocol</th>\n      <th>sequencing_strategy</th>\n      <th>base_calling_algorithm</th>\n      <th>alignment_algorithm</th>\n      <th>variation_calling_algorithm</th>\n      <th>other_analysis_algorithm</th>\n      <th>seq_coverage</th>\n      <th>raw_data_repository</th>\n      <th>raw_data_accession</th>\n      <th>initial_data_release_date</th>\n    </tr>\n  </thead>\n  <tbody>\n    <tr>\n      <th>0</th>\n      <td>MU25172</td>\n      <td>DO1954</td>\n      <td>BRCA-US</td>\n      <td>SP4265</td>\n      <td>SA46776</td>\n      <td>SA46883</td>\n      <td>TCGA-B6-A0RU-01A-11D-A099-09</td>\n      <td>TCGA-B6-A0RU-10A-01D-A099-09</td>\n      <td>3</td>\n      <td>48697354</td>\n      <td>...</td>\n      <td>NaN</td>\n      <td>WXS</td>\n      <td>NaN</td>\n      <td>NaN</td>\n      <td>TCGA-MC3 https://gdc.cancer.gov/about-data/pub...</td>\n      <td>NaN</td>\n      <td>NaN</td>\n      <td>GDC</td>\n      <td>TCGA-B6-A0RU-01A-11D-A099-09</td>\n      <td>NaN</td>\n    </tr>\n    <tr>\n      <th>1</th>\n      <td>MU25172</td>\n      <td>DO1954</td>\n      <td>BRCA-US</td>\n      <td>SP4265</td>\n      <td>SA46776</td>\n      <td>SA46883</td>\n      <td>TCGA-B6-A0RU-01A-11D-A099-09</td>\n      <td>TCGA-B6-A0RU-10A-01D-A099-09</td>\n      <td>3</td>\n      <td>48697354</td>\n      <td>...</td>\n      <td>NaN</td>\n      <td>WXS</td>\n      <td>NaN</td>\n      <td>NaN</td>\n      <td>TCGA-MC3 https://gdc.cancer.gov/about-data/pub...</td>\n      <td>NaN</td>\n      <td>NaN</td>\n      <td>GDC</td>\n      <td>TCGA-B6-A0RU-01A-11D-A099-09</td>\n      <td>NaN</td>\n    </tr>\n    <tr>\n      <th>2</th>\n      <td>MU25172</td>\n      <td>DO1954</td>\n      <td>BRCA-US</td>\n      <td>SP4265</td>\n      <td>SA46776</td>\n      <td>SA46883</td>\n      <td>TCGA-B6-A0RU-01A-11D-A099-09</td>\n      <td>TCGA-B6-A0RU-10A-01D-A099-09</td>\n      <td>3</td>\n      <td>48697354</td>\n      <td>...</td>\n      <td>NaN</td>\n      <td>WXS</td>\n      <td>NaN</td>\n      <td>NaN</td>\n      <td>TCGA-MC3 https://gdc.cancer.gov/about-data/pub...</td>\n      <td>NaN</td>\n      <td>NaN</td>\n      <td>GDC</td>\n      <td>TCGA-B6-A0RU-01A-11D-A099-09</td>\n      <td>NaN</td>\n    </tr>\n    <tr>\n      <th>3</th>\n      <td>MU25172</td>\n      <td>DO1954</td>\n      <td>BRCA-US</td>\n      <td>SP4265</td>\n      <td>SA46776</td>\n      <td>SA46883</td>\n      <td>TCGA-B6-A0RU-01A-11D-A099-09</td>\n      <td>TCGA-B6-A0RU-10A-01D-A099-09</td>\n      <td>3</td>\n      <td>48697354</td>\n      <td>...</td>\n      <td>NaN</td>\n      <td>WXS</td>\n      <td>NaN</td>\n      <td>NaN</td>\n      <td>TCGA-MC3 https://gdc.cancer.gov/about-data/pub...</td>\n      <td>NaN</td>\n      <td>NaN</td>\n      <td>GDC</td>\n      <td>TCGA-B6-A0RU-01A-11D-A099-09</td>\n      <td>NaN</td>\n    </tr>\n    <tr>\n      <th>4</th>\n      <td>MU25172</td>\n      <td>DO1954</td>\n      <td>BRCA-US</td>\n      <td>SP4265</td>\n      <td>SA46800</td>\n      <td>SA46919</td>\n      <td>TCGA-B6-A0RU-01A-11D-A12L-09</td>\n      <td>TCGA-B6-A0RU-10B-01D-A12L-09</td>\n      <td>3</td>\n      <td>48697354</td>\n      <td>...</td>\n      <td>NaN</td>\n      <td>WGS</td>\n      <td>NaN</td>\n      <td>NaN</td>\n      <td>PCAWG Consensus SNV-MNV caller</td>\n      <td>NaN</td>\n      <td>NaN</td>\n      <td>NaN</td>\n      <td>FI1261:FI1260</td>\n      <td>NaN</td>\n    </tr>\n  </tbody>\n</table>\n<p>5 rows × 42 columns</p>\n</div>"
     },
     "execution_count": 16,
     "metadata": {},
     "output_type": "execute_result"
    }
   ],
   "source": [
    "temp.head()"
   ],
   "metadata": {
    "collapsed": false,
    "pycharm": {
     "name": "#%%\n"
    }
   }
  },
  {
   "cell_type": "markdown",
   "source": [
    "## Multiple entries for the same mutation in a donor\n",
    "\n",
    "A simple somatic mutation (SSM) donor dataset in the ICGC portal can contain multiple records for the same variant in a donor. These records differ in fields: `consequence_type`, `aa_mutation`, `cds_mutation`, `gene_affected`, and `transcript_affected`. This is the result of [SnpEff](http://pcingola.github.io/SnpEff/), a genome variant annotation and effect prediction tool.\n",
    "\n",
    "A single variant can have multiple functional effects (`consequence_type`). One of the reasons is due to the presence of [multiple gene isoforms](https://en.wikipedia.org/wiki/Gene_isoform). These isoforms, while coming from the same locus, can differ in transcription start site, coding DNA sequences, and/or untranslated regions. As a result, [these gene isoforms can have different functions](https://en.wikipedia.org/wiki/Protein_isoform). Sometimes a variant may be transcribed and can introduce synonymous or missense mutation to the transcript. Other times the variant may not be present in the transcript isoform but can influence splice site recognition. Due to these reasons, for the same variant in a donor, we can have multiple `transcript_affected` for the same `gene_affected`.\n",
    "\n",
    "Additionally, sometimes a variant can exist some distance upstream/downstream of another gene and influence its transcription. As a result, `gene_affected` can also differ for the same variant in a donor."
   ],
   "metadata": {
    "collapsed": false
   }
  },
  {
   "cell_type": "code",
   "execution_count": null,
   "outputs": [],
   "source": [],
   "metadata": {
    "collapsed": false,
    "pycharm": {
     "name": "#%%\n"
    }
   }
  }
 ],
 "metadata": {
  "kernelspec": {
   "display_name": "Python 3",
   "language": "python",
   "name": "python3"
  },
  "language_info": {
   "codemirror_mode": {
    "name": "ipython",
    "version": 2
   },
   "file_extension": ".py",
   "mimetype": "text/x-python",
   "name": "python",
   "nbconvert_exporter": "python",
   "pygments_lexer": "ipython2",
   "version": "2.7.6"
  }
 },
 "nbformat": 4,
 "nbformat_minor": 0
}